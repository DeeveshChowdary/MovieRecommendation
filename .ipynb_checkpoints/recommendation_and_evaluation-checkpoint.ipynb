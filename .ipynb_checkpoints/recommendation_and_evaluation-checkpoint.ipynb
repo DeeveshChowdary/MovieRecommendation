{
 "cells": [
  {
   "cell_type": "code",
   "execution_count": 1,
   "id": "f86710cd",
   "metadata": {},
   "outputs": [
    {
     "name": "stdout",
     "output_type": "stream",
     "text": [
      "Requirement already satisfied: scikit-learn in /opt/homebrew/Cellar/jupyterlab/3.6.1/libexec/lib/python3.11/site-packages (1.2.2)\n",
      "Requirement already satisfied: numpy>=1.17.3 in /opt/homebrew/Cellar/jupyterlab/3.6.1/libexec/lib/python3.11/site-packages (from scikit-learn) (1.24.2)\n",
      "Requirement already satisfied: scipy>=1.3.2 in /opt/homebrew/Cellar/jupyterlab/3.6.1/libexec/lib/python3.11/site-packages (from scikit-learn) (1.10.1)\n",
      "Requirement already satisfied: joblib>=1.1.1 in /opt/homebrew/Cellar/jupyterlab/3.6.1/libexec/lib/python3.11/site-packages (from scikit-learn) (1.2.0)\n",
      "Requirement already satisfied: threadpoolctl>=2.0.0 in /opt/homebrew/Cellar/jupyterlab/3.6.1/libexec/lib/python3.11/site-packages (from scikit-learn) (3.1.0)\n",
      "\n",
      "\u001b[1m[\u001b[0m\u001b[34;49mnotice\u001b[0m\u001b[1;39;49m]\u001b[0m\u001b[39;49m A new release of pip available: \u001b[0m\u001b[31;49m22.3.1\u001b[0m\u001b[39;49m -> \u001b[0m\u001b[32;49m23.1.1\u001b[0m\n",
      "\u001b[1m[\u001b[0m\u001b[34;49mnotice\u001b[0m\u001b[1;39;49m]\u001b[0m\u001b[39;49m To update, run: \u001b[0m\u001b[32;49mpython3.11 -m pip install --upgrade pip\u001b[0m\n",
      "Note: you may need to restart the kernel to use updated packages.\n"
     ]
    }
   ],
   "source": [
    "pip install scikit-learn"
   ]
  },
  {
   "cell_type": "code",
   "execution_count": 2,
   "id": "29938e0a",
   "metadata": {},
   "outputs": [],
   "source": [
    "import pandas as pd"
   ]
  },
  {
   "cell_type": "code",
   "execution_count": 3,
   "id": "4a26f925",
   "metadata": {},
   "outputs": [],
   "source": [
    "\n",
    "# all movie ids vs titles\n",
    "\n",
    "df_movies = pd.read_csv('ml-latest-small/movies.csv', usecols=[0,1], names=['movieId', 'title'])\n",
    "\n",
    "all_movies_dict = pd.Series(df_movies['title'].values,index=df_movies['movieId']).to_dict()"
   ]
  },
  {
   "cell_type": "code",
   "execution_count": 4,
   "id": "b6a1db62",
   "metadata": {},
   "outputs": [],
   "source": [
    "df_prediction = pd.read_csv('predictions/prediction_cocluster.csv')"
   ]
  },
  {
   "cell_type": "code",
   "execution_count": 5,
   "id": "16d75bcc",
   "metadata": {},
   "outputs": [
    {
     "data": {
      "text/html": [
       "<div>\n",
       "<style scoped>\n",
       "    .dataframe tbody tr th:only-of-type {\n",
       "        vertical-align: middle;\n",
       "    }\n",
       "\n",
       "    .dataframe tbody tr th {\n",
       "        vertical-align: top;\n",
       "    }\n",
       "\n",
       "    .dataframe thead th {\n",
       "        text-align: right;\n",
       "    }\n",
       "</style>\n",
       "<table border=\"1\" class=\"dataframe\">\n",
       "  <thead>\n",
       "    <tr style=\"text-align: right;\">\n",
       "      <th></th>\n",
       "      <th>userId</th>\n",
       "      <th>movieId</th>\n",
       "      <th>predicted_rating</th>\n",
       "      <th>rating</th>\n",
       "    </tr>\n",
       "  </thead>\n",
       "  <tbody>\n",
       "    <tr>\n",
       "      <th>0</th>\n",
       "      <td>1</td>\n",
       "      <td>157</td>\n",
       "      <td>3.520345</td>\n",
       "      <td>5.0</td>\n",
       "    </tr>\n",
       "    <tr>\n",
       "      <th>1</th>\n",
       "      <td>1</td>\n",
       "      <td>362</td>\n",
       "      <td>4.720673</td>\n",
       "      <td>5.0</td>\n",
       "    </tr>\n",
       "    <tr>\n",
       "      <th>2</th>\n",
       "      <td>1</td>\n",
       "      <td>457</td>\n",
       "      <td>4.762522</td>\n",
       "      <td>5.0</td>\n",
       "    </tr>\n",
       "    <tr>\n",
       "      <th>3</th>\n",
       "      <td>1</td>\n",
       "      <td>543</td>\n",
       "      <td>3.992879</td>\n",
       "      <td>4.0</td>\n",
       "    </tr>\n",
       "    <tr>\n",
       "      <th>4</th>\n",
       "      <td>1</td>\n",
       "      <td>590</td>\n",
       "      <td>4.923122</td>\n",
       "      <td>4.0</td>\n",
       "    </tr>\n",
       "  </tbody>\n",
       "</table>\n",
       "</div>"
      ],
      "text/plain": [
       "   userId  movieId  predicted_rating  rating\n",
       "0       1      157          3.520345     5.0\n",
       "1       1      362          4.720673     5.0\n",
       "2       1      457          4.762522     5.0\n",
       "3       1      543          3.992879     4.0\n",
       "4       1      590          4.923122     4.0"
      ]
     },
     "execution_count": 5,
     "metadata": {},
     "output_type": "execute_result"
    }
   ],
   "source": [
    "df_prediction.head()"
   ]
  },
  {
   "cell_type": "code",
   "execution_count": 6,
   "id": "9d08f8e2",
   "metadata": {},
   "outputs": [],
   "source": [
    "# all users in the validation set \n",
    "\n",
    "all_users = df_prediction['userId'].unique().tolist()"
   ]
  },
  {
   "cell_type": "code",
   "execution_count": 7,
   "id": "93824fd2",
   "metadata": {},
   "outputs": [],
   "source": [
    "\n",
    "# recommendations as per \"predicted ratings\" in the validation set \n",
    "\n",
    "df_prediction1 = df_prediction[['userId', 'movieId', 'predicted_rating']]\n",
    "df_prediction1['predicted_movies'] = df_prediction1 \\\n",
    "  .apply(lambda x: (x['movieId'], x['predicted_rating']), axis=1)\n",
    "\n",
    "df_prediction2 = df_prediction1[['userId', 'predicted_movies']]\n",
    "\n",
    "df_prediction_formatted = df_prediction2 \\\n",
    "  .groupby('userId')['predicted_movies'].apply(list).reset_index(name='recommendation')\n",
    "\n",
    "df_prediction_sorted = df_prediction_formatted\n",
    "\n",
    "df_prediction_sorted['recommendation'] = \\\n",
    "  df_prediction_sorted['recommendation'].apply( \\\n",
    "    lambda x: sorted(x, key=lambda tup: tup[1], reverse=True))\n",
    "\n",
    "df_prediction_sorted.head()\n",
    "\n",
    "sorted_reco_by_userid = pd.Series( \\\n",
    "  df_prediction_sorted['recommendation'].values,index=df_prediction_sorted['userId']).to_dict()"
   ]
  },
  {
   "cell_type": "code",
   "execution_count": 8,
   "id": "f39e0eab",
   "metadata": {},
   "outputs": [],
   "source": [
    "# this function returns top N recommendations for a given user\n",
    "# based on the predicted ratings, N = 10 by default\n",
    "\n",
    "def get_top_n_recommendations(user, N=10):\n",
    "  top_n_reco = sorted_reco_by_userid[user][:N]\n",
    "  \n",
    "  return [all_movies_dict[str(int(x[0]))] for x in top_n_reco]"
   ]
  },
  {
   "cell_type": "code",
   "execution_count": 9,
   "id": "103f5e74",
   "metadata": {},
   "outputs": [],
   "source": [
    "# recommendations as per \"true ratings\" in the validation set\n",
    "\n",
    "df_true1 = df_prediction[['userId', 'movieId', 'rating']]\n",
    "df_true1['movies'] = df_true1 \\\n",
    "  .apply(lambda x: (x['movieId'], x['rating']), axis=1)\n",
    "\n",
    "df_true2 = df_true1[['userId', 'movies']]\n",
    "\n",
    "df_true_formatted = df_true2 \\\n",
    "  .groupby('userId')['movies'].apply(list).reset_index(name='recommendation')\n",
    "\n",
    "df_true_sorted = df_true_formatted\n",
    "\n",
    "df_true_sorted['recommendation'] = \\\n",
    "  df_true_sorted['recommendation'].apply( \\\n",
    "    lambda x: sorted(x, key=lambda tup: tup[1], reverse=True))\n",
    "\n",
    "df_true_sorted.head()\n",
    "\n",
    "sorted_true_ratings_by_userid = pd.Series( \\\n",
    "  df_true_sorted['recommendation'].values,index=df_true_sorted['userId']).to_dict()"
   ]
  },
  {
   "cell_type": "code",
   "execution_count": 10,
   "id": "a33b35df",
   "metadata": {},
   "outputs": [],
   "source": [
    "# this function returns top N recommendations for a given user\n",
    "# based on the true ratings, N = 10 by default\n",
    "\n",
    "def get_top_n_true_ratings(user, N=10):\n",
    "  top_n_true_ratings = sorted_true_ratings_by_userid[user][:N]\n",
    "  \n",
    "  return [all_movies_dict[str(int(x[0]))] for x in top_n_true_ratings]"
   ]
  },
  {
   "cell_type": "code",
   "execution_count": 11,
   "id": "7058874b",
   "metadata": {},
   "outputs": [],
   "source": [
    "# get recommendation for each user in the validation set\n",
    "\n",
    "top_n_recommendations_by_user = {}\n",
    "\n",
    "user_out = []\n",
    "for user in all_users:\n",
    "  out = []\n",
    "\n",
    "  # user\n",
    "  out.append(user)\n",
    "\n",
    "  # top N recommendations (n = 10 by default)\n",
    "  top_n_reco_for_user = get_top_n_recommendations(user)\n",
    "  top_n_recommendations_by_user[user] = top_n_reco_for_user\n",
    "\n",
    "  top_n_true_ratings_for_user = get_top_n_true_ratings(user)\n",
    "  true_positives = list(set(top_n_reco_for_user) & set(top_n_true_ratings_for_user))\n",
    "  false_positives = list(set(top_n_reco_for_user) - set(top_n_true_ratings_for_user))\n",
    "  false_negatives = list(set(top_n_true_ratings_for_user) - set(top_n_reco_for_user))\n",
    "\n",
    "  # Compute precision for this user\n",
    "  precision_for_user = len(true_positives) / float(len(true_positives) + len(false_positives))\n",
    "  out.append(precision_for_user)\n",
    "\n",
    "  # Compute recall for this user\n",
    "  recall_for_user = len(true_positives) / float(len(true_positives) + len(false_negatives))\n",
    "  out.append(recall_for_user)\n",
    "  \n",
    "  user_out.append(out)"
   ]
  },
  {
   "cell_type": "code",
   "execution_count": 12,
   "id": "0b0d4310",
   "metadata": {},
   "outputs": [
    {
     "data": {
      "text/html": [
       "<div>\n",
       "<style scoped>\n",
       "    .dataframe tbody tr th:only-of-type {\n",
       "        vertical-align: middle;\n",
       "    }\n",
       "\n",
       "    .dataframe tbody tr th {\n",
       "        vertical-align: top;\n",
       "    }\n",
       "\n",
       "    .dataframe thead th {\n",
       "        text-align: right;\n",
       "    }\n",
       "</style>\n",
       "<table border=\"1\" class=\"dataframe\">\n",
       "  <thead>\n",
       "    <tr style=\"text-align: right;\">\n",
       "      <th></th>\n",
       "      <th>userId</th>\n",
       "      <th>precision_user</th>\n",
       "      <th>recall_user</th>\n",
       "    </tr>\n",
       "  </thead>\n",
       "  <tbody>\n",
       "    <tr>\n",
       "      <th>0</th>\n",
       "      <td>1</td>\n",
       "      <td>0.4</td>\n",
       "      <td>0.4</td>\n",
       "    </tr>\n",
       "    <tr>\n",
       "      <th>1</th>\n",
       "      <td>2</td>\n",
       "      <td>1.0</td>\n",
       "      <td>1.0</td>\n",
       "    </tr>\n",
       "    <tr>\n",
       "      <th>2</th>\n",
       "      <td>3</td>\n",
       "      <td>1.0</td>\n",
       "      <td>1.0</td>\n",
       "    </tr>\n",
       "    <tr>\n",
       "      <th>3</th>\n",
       "      <td>4</td>\n",
       "      <td>0.5</td>\n",
       "      <td>0.5</td>\n",
       "    </tr>\n",
       "    <tr>\n",
       "      <th>4</th>\n",
       "      <td>5</td>\n",
       "      <td>1.0</td>\n",
       "      <td>1.0</td>\n",
       "    </tr>\n",
       "    <tr>\n",
       "      <th>...</th>\n",
       "      <td>...</td>\n",
       "      <td>...</td>\n",
       "      <td>...</td>\n",
       "    </tr>\n",
       "    <tr>\n",
       "      <th>605</th>\n",
       "      <td>606</td>\n",
       "      <td>0.2</td>\n",
       "      <td>0.2</td>\n",
       "    </tr>\n",
       "    <tr>\n",
       "      <th>606</th>\n",
       "      <td>607</td>\n",
       "      <td>0.1</td>\n",
       "      <td>0.1</td>\n",
       "    </tr>\n",
       "    <tr>\n",
       "      <th>607</th>\n",
       "      <td>608</td>\n",
       "      <td>0.1</td>\n",
       "      <td>0.1</td>\n",
       "    </tr>\n",
       "    <tr>\n",
       "      <th>608</th>\n",
       "      <td>609</td>\n",
       "      <td>1.0</td>\n",
       "      <td>1.0</td>\n",
       "    </tr>\n",
       "    <tr>\n",
       "      <th>609</th>\n",
       "      <td>610</td>\n",
       "      <td>0.2</td>\n",
       "      <td>0.2</td>\n",
       "    </tr>\n",
       "  </tbody>\n",
       "</table>\n",
       "<p>610 rows × 3 columns</p>\n",
       "</div>"
      ],
      "text/plain": [
       "     userId  precision_user  recall_user\n",
       "0         1             0.4          0.4\n",
       "1         2             1.0          1.0\n",
       "2         3             1.0          1.0\n",
       "3         4             0.5          0.5\n",
       "4         5             1.0          1.0\n",
       "..      ...             ...          ...\n",
       "605     606             0.2          0.2\n",
       "606     607             0.1          0.1\n",
       "607     608             0.1          0.1\n",
       "608     609             1.0          1.0\n",
       "609     610             0.2          0.2\n",
       "\n",
       "[610 rows x 3 columns]"
      ]
     },
     "execution_count": 12,
     "metadata": {},
     "output_type": "execute_result"
    }
   ],
   "source": [
    "# Recommendation evaluation for all users in the validation set\n",
    "\n",
    "df_out = pd.DataFrame(user_out, columns=['userId', 'precision_user', 'recall_user'])\n",
    "df_out"
   ]
  },
  {
   "cell_type": "code",
   "execution_count": 13,
   "id": "ac687229",
   "metadata": {},
   "outputs": [
    {
     "data": {
      "text/plain": [
       "[\"Schindler's List (1993)\",\n",
       " 'Fugitive, The (1993)',\n",
       " 'Braveheart (1995)',\n",
       " 'Batman (1989)',\n",
       " 'Pretty Woman (1990)',\n",
       " 'Get Shorty (1995)',\n",
       " 'Jumanji (1995)',\n",
       " 'Nell (1994)',\n",
       " 'I.Q. (1994)']"
      ]
     },
     "execution_count": 13,
     "metadata": {},
     "output_type": "execute_result"
    }
   ],
   "source": [
    "\n",
    "# top N recommendations for a user example\n",
    "\n",
    "top_n_recommendations_by_user[8]"
   ]
  },
  {
   "cell_type": "code",
   "execution_count": 14,
   "id": "2613942b",
   "metadata": {},
   "outputs": [
    {
     "name": "stdout",
     "output_type": "stream",
     "text": [
      "mae 0.7316044710292399\n",
      "rmse 0.945382775372626\n",
      "avg precision 0.7055737704918033\n",
      "avg recall 0.7055737704918033\n",
      "f measure 0.7055737704918033\n"
     ]
    }
   ],
   "source": [
    "# EVALUATION\n",
    "\n",
    "# mae\n",
    "from sklearn.metrics import mean_absolute_error\n",
    "\n",
    "mae = mean_absolute_error(df_prediction['rating'], df_prediction['predicted_rating'])\n",
    "print('mae', mae)\n",
    "\n",
    "# rmse\n",
    "from sklearn.metrics import mean_squared_error\n",
    "from math import sqrt\n",
    "rmse = sqrt(mean_squared_error(df_prediction['rating'], df_prediction['predicted_rating']))\n",
    "print('rmse', rmse)\n",
    "\n",
    "# precision\n",
    "precision = df_out['precision_user'].mean()\n",
    "print('avg precision', precision)\n",
    "\n",
    "# recall\n",
    "recall = df_out['recall_user'].mean()\n",
    "print('avg recall', recall)\n",
    "\n",
    "# f measure\n",
    "f_measure = (2.0 * precision * recall) / (precision + recall)\n",
    "print('f measure', f_measure)"
   ]
  },
  {
   "cell_type": "code",
   "execution_count": null,
   "id": "96889b52",
   "metadata": {},
   "outputs": [],
   "source": []
  }
 ],
 "metadata": {
  "kernelspec": {
   "display_name": "Python 3 (ipykernel)",
   "language": "python",
   "name": "python3"
  },
  "language_info": {
   "codemirror_mode": {
    "name": "ipython",
    "version": 3
   },
   "file_extension": ".py",
   "mimetype": "text/x-python",
   "name": "python",
   "nbconvert_exporter": "python",
   "pygments_lexer": "ipython3",
   "version": "3.11.1"
  }
 },
 "nbformat": 4,
 "nbformat_minor": 5
}
