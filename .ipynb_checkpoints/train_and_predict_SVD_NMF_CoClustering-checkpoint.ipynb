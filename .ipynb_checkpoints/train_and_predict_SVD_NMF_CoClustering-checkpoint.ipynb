{
 "cells": [
  {
   "cell_type": "code",
   "execution_count": 1,
   "id": "490e770d",
   "metadata": {},
   "outputs": [
    {
     "name": "stdout",
     "output_type": "stream",
     "text": [
      "Requirement already satisfied: surprise in /opt/homebrew/Cellar/jupyterlab/3.6.1/libexec/lib/python3.11/site-packages (0.1)\n",
      "Requirement already satisfied: scikit-surprise in /opt/homebrew/Cellar/jupyterlab/3.6.1/libexec/lib/python3.11/site-packages (from surprise) (1.1.3)\n",
      "Requirement already satisfied: joblib>=1.0.0 in /opt/homebrew/Cellar/jupyterlab/3.6.1/libexec/lib/python3.11/site-packages (from scikit-surprise->surprise) (1.2.0)\n",
      "Requirement already satisfied: numpy>=1.17.3 in /opt/homebrew/Cellar/jupyterlab/3.6.1/libexec/lib/python3.11/site-packages (from scikit-surprise->surprise) (1.24.2)\n",
      "Requirement already satisfied: scipy>=1.3.2 in /opt/homebrew/Cellar/jupyterlab/3.6.1/libexec/lib/python3.11/site-packages (from scikit-surprise->surprise) (1.10.1)\n",
      "\n",
      "\u001b[1m[\u001b[0m\u001b[34;49mnotice\u001b[0m\u001b[1;39;49m]\u001b[0m\u001b[39;49m A new release of pip available: \u001b[0m\u001b[31;49m22.3.1\u001b[0m\u001b[39;49m -> \u001b[0m\u001b[32;49m23.1.1\u001b[0m\n",
      "\u001b[1m[\u001b[0m\u001b[34;49mnotice\u001b[0m\u001b[1;39;49m]\u001b[0m\u001b[39;49m To update, run: \u001b[0m\u001b[32;49mpython3.11 -m pip install --upgrade pip\u001b[0m\n",
      "Note: you may need to restart the kernel to use updated packages.\n"
     ]
    }
   ],
   "source": [
    "pip install surprise"
   ]
  },
  {
   "cell_type": "code",
   "execution_count": 2,
   "id": "58c2f7cf",
   "metadata": {},
   "outputs": [],
   "source": [
    "from surprise import Reader\n",
    "from surprise import Dataset\n",
    "from surprise import accuracy\n",
    "import pandas as pd\n",
    "import json\n",
    "\n",
    "from surprise import \\\n",
    "SVD, \\\n",
    "NMF, \\\n",
    "CoClustering"
   ]
  },
  {
   "cell_type": "code",
   "execution_count": 3,
   "id": "6c212d87",
   "metadata": {},
   "outputs": [
    {
     "data": {
      "text/html": [
       "<div>\n",
       "<style scoped>\n",
       "    .dataframe tbody tr th:only-of-type {\n",
       "        vertical-align: middle;\n",
       "    }\n",
       "\n",
       "    .dataframe tbody tr th {\n",
       "        vertical-align: top;\n",
       "    }\n",
       "\n",
       "    .dataframe thead th {\n",
       "        text-align: right;\n",
       "    }\n",
       "</style>\n",
       "<table border=\"1\" class=\"dataframe\">\n",
       "  <thead>\n",
       "    <tr style=\"text-align: right;\">\n",
       "      <th></th>\n",
       "      <th>userId</th>\n",
       "      <th>movieId</th>\n",
       "      <th>rating</th>\n",
       "    </tr>\n",
       "  </thead>\n",
       "  <tbody>\n",
       "    <tr>\n",
       "      <th>0</th>\n",
       "      <td>1</td>\n",
       "      <td>3578</td>\n",
       "      <td>5.0</td>\n",
       "    </tr>\n",
       "    <tr>\n",
       "      <th>1</th>\n",
       "      <td>1</td>\n",
       "      <td>2268</td>\n",
       "      <td>4.0</td>\n",
       "    </tr>\n",
       "    <tr>\n",
       "      <th>2</th>\n",
       "      <td>1</td>\n",
       "      <td>5060</td>\n",
       "      <td>5.0</td>\n",
       "    </tr>\n",
       "    <tr>\n",
       "      <th>3</th>\n",
       "      <td>1</td>\n",
       "      <td>2944</td>\n",
       "      <td>5.0</td>\n",
       "    </tr>\n",
       "    <tr>\n",
       "      <th>4</th>\n",
       "      <td>1</td>\n",
       "      <td>2137</td>\n",
       "      <td>5.0</td>\n",
       "    </tr>\n",
       "  </tbody>\n",
       "</table>\n",
       "</div>"
      ],
      "text/plain": [
       "   userId  movieId  rating\n",
       "0       1     3578     5.0\n",
       "1       1     2268     4.0\n",
       "2       1     5060     5.0\n",
       "3       1     2944     5.0\n",
       "4       1     2137     5.0"
      ]
     },
     "execution_count": 3,
     "metadata": {},
     "output_type": "execute_result"
    }
   ],
   "source": [
    "# load training dataset\n",
    "\n",
    "df_train = pd.read_csv('dataset_split/training_set.csv')[['userId', 'movieId', 'rating']]\n",
    "\n",
    "df_train.head()\n"
   ]
  },
  {
   "cell_type": "code",
   "execution_count": 4,
   "id": "bb2506bb",
   "metadata": {},
   "outputs": [],
   "source": [
    "reader = Reader(rating_scale=(1, 5))"
   ]
  },
  {
   "cell_type": "code",
   "execution_count": 5,
   "id": "f09bf329",
   "metadata": {},
   "outputs": [],
   "source": [
    "trainset = Dataset.load_from_df(df_train, reader).build_full_trainset()"
   ]
  },
  {
   "cell_type": "code",
   "execution_count": 6,
   "id": "14e86a25",
   "metadata": {},
   "outputs": [],
   "source": [
    "model_cocluster = CoClustering()"
   ]
  },
  {
   "cell_type": "code",
   "execution_count": 7,
   "id": "307f4824",
   "metadata": {},
   "outputs": [
    {
     "data": {
      "text/plain": [
       "<surprise.prediction_algorithms.co_clustering.CoClustering at 0x12e1043d0>"
      ]
     },
     "execution_count": 7,
     "metadata": {},
     "output_type": "execute_result"
    }
   ],
   "source": [
    "model_cocluster.fit(trainset)"
   ]
  },
  {
   "cell_type": "code",
   "execution_count": 8,
   "id": "9705c83e",
   "metadata": {},
   "outputs": [
    {
     "data": {
      "text/html": [
       "<div>\n",
       "<style scoped>\n",
       "    .dataframe tbody tr th:only-of-type {\n",
       "        vertical-align: middle;\n",
       "    }\n",
       "\n",
       "    .dataframe tbody tr th {\n",
       "        vertical-align: top;\n",
       "    }\n",
       "\n",
       "    .dataframe thead th {\n",
       "        text-align: right;\n",
       "    }\n",
       "</style>\n",
       "<table border=\"1\" class=\"dataframe\">\n",
       "  <thead>\n",
       "    <tr style=\"text-align: right;\">\n",
       "      <th></th>\n",
       "      <th>userId</th>\n",
       "      <th>movieId</th>\n",
       "      <th>rating</th>\n",
       "    </tr>\n",
       "  </thead>\n",
       "  <tbody>\n",
       "    <tr>\n",
       "      <th>0</th>\n",
       "      <td>1</td>\n",
       "      <td>157</td>\n",
       "      <td>5.0</td>\n",
       "    </tr>\n",
       "    <tr>\n",
       "      <th>1</th>\n",
       "      <td>1</td>\n",
       "      <td>362</td>\n",
       "      <td>5.0</td>\n",
       "    </tr>\n",
       "    <tr>\n",
       "      <th>2</th>\n",
       "      <td>1</td>\n",
       "      <td>457</td>\n",
       "      <td>5.0</td>\n",
       "    </tr>\n",
       "    <tr>\n",
       "      <th>3</th>\n",
       "      <td>1</td>\n",
       "      <td>543</td>\n",
       "      <td>4.0</td>\n",
       "    </tr>\n",
       "    <tr>\n",
       "      <th>4</th>\n",
       "      <td>1</td>\n",
       "      <td>590</td>\n",
       "      <td>4.0</td>\n",
       "    </tr>\n",
       "  </tbody>\n",
       "</table>\n",
       "</div>"
      ],
      "text/plain": [
       "   userId  movieId  rating\n",
       "0       1      157     5.0\n",
       "1       1      362     5.0\n",
       "2       1      457     5.0\n",
       "3       1      543     4.0\n",
       "4       1      590     4.0"
      ]
     },
     "execution_count": 8,
     "metadata": {},
     "output_type": "execute_result"
    }
   ],
   "source": [
    "# load validation dataset\n",
    "\n",
    "df_validate = pd.read_csv('dataset_split/testing_set.csv')[['userId', 'movieId', 'rating']]\n",
    "\n",
    "df_validate.head()"
   ]
  },
  {
   "cell_type": "code",
   "execution_count": 9,
   "id": "9053ea20",
   "metadata": {},
   "outputs": [],
   "source": [
    "predicted_attributes_cocluster = []\n",
    "\n",
    "# this function predicts ratings on the validation set using the trained model\n",
    "def get_predicted_ratings(x, algo):\n",
    "  prediction_list = []\n",
    "\n",
    "  if algo == \"SVD\":\n",
    "    model = model_svd\n",
    "  elif algo == \"NMF\":\n",
    "    model = model_nmf\n",
    "  elif algo == \"CoClustering\":\n",
    "    model = model_cocluster\n",
    "\n",
    "  prediction = model.predict(x[0], x[1])\n",
    "\n",
    "  prediction_list.append(int(prediction[0]))\n",
    "  prediction_list.append(int(prediction[1]))\n",
    "  prediction_list.append(prediction[3])\n",
    "\n",
    "  if algo == \"SVD\":\n",
    "    predicted_attributes_svd.append(prediction_list)\n",
    "  elif algo == \"NMF\":\n",
    "    predicted_attributes_nmf.append(prediction_list)\n",
    "  elif algo == \"CoClustering\":\n",
    "    predicted_attributes_cocluster.append(prediction_list)  "
   ]
  },
  {
   "cell_type": "code",
   "execution_count": 10,
   "id": "7a098797",
   "metadata": {},
   "outputs": [
    {
     "data": {
      "text/html": [
       "<div>\n",
       "<style scoped>\n",
       "    .dataframe tbody tr th:only-of-type {\n",
       "        vertical-align: middle;\n",
       "    }\n",
       "\n",
       "    .dataframe tbody tr th {\n",
       "        vertical-align: top;\n",
       "    }\n",
       "\n",
       "    .dataframe thead th {\n",
       "        text-align: right;\n",
       "    }\n",
       "</style>\n",
       "<table border=\"1\" class=\"dataframe\">\n",
       "  <thead>\n",
       "    <tr style=\"text-align: right;\">\n",
       "      <th></th>\n",
       "      <th>userId</th>\n",
       "      <th>movieId</th>\n",
       "      <th>predicted_rating</th>\n",
       "      <th>rating</th>\n",
       "    </tr>\n",
       "  </thead>\n",
       "  <tbody>\n",
       "    <tr>\n",
       "      <th>0</th>\n",
       "      <td>1</td>\n",
       "      <td>157</td>\n",
       "      <td>3.520345</td>\n",
       "      <td>5.0</td>\n",
       "    </tr>\n",
       "    <tr>\n",
       "      <th>1</th>\n",
       "      <td>1</td>\n",
       "      <td>362</td>\n",
       "      <td>4.720673</td>\n",
       "      <td>5.0</td>\n",
       "    </tr>\n",
       "    <tr>\n",
       "      <th>2</th>\n",
       "      <td>1</td>\n",
       "      <td>457</td>\n",
       "      <td>4.762522</td>\n",
       "      <td>5.0</td>\n",
       "    </tr>\n",
       "    <tr>\n",
       "      <th>3</th>\n",
       "      <td>1</td>\n",
       "      <td>543</td>\n",
       "      <td>3.992879</td>\n",
       "      <td>4.0</td>\n",
       "    </tr>\n",
       "    <tr>\n",
       "      <th>4</th>\n",
       "      <td>1</td>\n",
       "      <td>590</td>\n",
       "      <td>4.923122</td>\n",
       "      <td>4.0</td>\n",
       "    </tr>\n",
       "  </tbody>\n",
       "</table>\n",
       "</div>"
      ],
      "text/plain": [
       "   userId  movieId  predicted_rating  rating\n",
       "0       1      157          3.520345     5.0\n",
       "1       1      362          4.720673     5.0\n",
       "2       1      457          4.762522     5.0\n",
       "3       1      543          3.992879     4.0\n",
       "4       1      590          4.923122     4.0"
      ]
     },
     "execution_count": 10,
     "metadata": {},
     "output_type": "execute_result"
    }
   ],
   "source": [
    "df_validate.apply(lambda x: get_predicted_ratings(x, \"CoClustering\"), axis=1)\n",
    "\n",
    "df_result_cocluster = pd.DataFrame.from_records(predicted_attributes_cocluster, \n",
    "                                      columns=['userId', 'movieId', 'predicted_rating'])\n",
    "df_result_cocluster['rating'] = df_validate['rating']\n",
    "\n",
    "df_result_cocluster.head()"
   ]
  },
  {
   "cell_type": "code",
   "execution_count": 11,
   "id": "f8293acd",
   "metadata": {},
   "outputs": [],
   "source": [
    "df_result_cocluster.to_csv('predictions/prediction_cocluster.csv', index=False)"
   ]
  },
  {
   "cell_type": "code",
   "execution_count": null,
   "id": "5e55926d",
   "metadata": {},
   "outputs": [],
   "source": []
  }
 ],
 "metadata": {
  "kernelspec": {
   "display_name": "Python 3 (ipykernel)",
   "language": "python",
   "name": "python3"
  },
  "language_info": {
   "codemirror_mode": {
    "name": "ipython",
    "version": 3
   },
   "file_extension": ".py",
   "mimetype": "text/x-python",
   "name": "python",
   "nbconvert_exporter": "python",
   "pygments_lexer": "ipython3",
   "version": "3.11.1"
  }
 },
 "nbformat": 4,
 "nbformat_minor": 5
}
